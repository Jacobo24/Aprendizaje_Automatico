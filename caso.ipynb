{
 "cells": [
  {
   "cell_type": "markdown",
   "id": "b07ff815",
   "metadata": {},
   "source": [
    "# Importar librerias"
   ]
  },
  {
   "cell_type": "code",
   "execution_count": 5,
   "id": "82b158df",
   "metadata": {},
   "outputs": [
    {
     "name": "stdout",
     "output_type": "stream",
     "text": [
      "True\n",
      "NVIDIA GeForce RTX 3050 Laptop GPU\n"
     ]
    }
   ],
   "source": [
    "import torch\n",
    "print(torch.cuda.is_available())  # True\n",
    "print(torch.cuda.get_device_name(0))  # NVIDIA GeForce RTX 3050"
   ]
  },
  {
   "cell_type": "code",
   "execution_count": 6,
   "id": "cc771add",
   "metadata": {},
   "outputs": [],
   "source": [
    "#pip install opencv-python\n"
   ]
  },
  {
   "cell_type": "code",
   "execution_count": 7,
   "id": "2e0cb61d",
   "metadata": {},
   "outputs": [],
   "source": [
    "#pip install torch torchvision"
   ]
  },
  {
   "cell_type": "code",
   "execution_count": 8,
   "id": "309ceb62",
   "metadata": {},
   "outputs": [],
   "source": [
    "import os, math, random, pathlib\n",
    "from typing import Tuple\n",
    "import torch\n",
    "from torch.utils.data import DataLoader, Subset\n",
    "from torchvision import datasets, transforms as T"
   ]
  },
  {
   "cell_type": "code",
   "execution_count": 9,
   "id": "3f526a42",
   "metadata": {},
   "outputs": [],
   "source": [
    "import matplotlib.pyplot as plt\n",
    "import numpy as np\n",
    "from sklearn.model_selection import train_test_split\n",
    "from sklearn.metrics import confusion_matrix, ConfusionMatrixDisplay\n",
    "import seaborn as sns"
   ]
  },
  {
   "cell_type": "markdown",
   "id": "c1f1c830",
   "metadata": {},
   "source": [
    "# Dimensionar las imagenes"
   ]
  },
  {
   "cell_type": "code",
   "execution_count": 10,
   "id": "f73f8a9d",
   "metadata": {},
   "outputs": [],
   "source": [
    "from torchvision import transforms\n",
    "\n",
    "# Transformaciones para entrenamiento (aumentos + normalización)\n",
    "train_transforms = transforms.Compose([\n",
    "    transforms.Resize((224, 224)),\n",
    "    transforms.RandomRotation(10),\n",
    "    transforms.RandomHorizontalFlip(),\n",
    "    transforms.RandomAffine(degrees=0,\n",
    "                            translate=(0.05, 0.05)),  # equivalente a width/height_shift\n",
    "    transforms.ToTensor(),\n",
    "    transforms.Normalize(mean=[0.5, 0.5, 0.5],\n",
    "                         std=[0.5, 0.5, 0.5])\n",
    "])\n",
    "\n",
    "# Transformaciones para validación y test (solo reescalado + normalización)\n",
    "val_test_transforms = transforms.Compose([\n",
    "    transforms.Resize((224, 224)),\n",
    "    transforms.ToTensor(),\n",
    "    transforms.Normalize(mean=[0.5, 0.5, 0.5],\n",
    "                         std=[0.5, 0.5, 0.5])\n",
    "])"
   ]
  },
  {
   "cell_type": "markdown",
   "id": "b3e93ef1",
   "metadata": {},
   "source": [
    "# Inicio del codigo"
   ]
  },
  {
   "cell_type": "code",
   "execution_count": 11,
   "id": "25e449e8",
   "metadata": {},
   "outputs": [
    {
     "name": "stdout",
     "output_type": "stream",
     "text": [
      "Using device: cuda\n"
     ]
    },
    {
     "data": {
      "text/plain": [
       "<torch._C.Generator at 0x2d1fea66190>"
      ]
     },
     "execution_count": 11,
     "metadata": {},
     "output_type": "execute_result"
    }
   ],
   "source": [
    "# ----------------- Config -----------------\n",
    "BASE_DIR   = \"002_cancer\"\n",
    "TRAIN_DIR  = os.path.join(BASE_DIR, \"train\")\n",
    "VAL_DIR    = os.path.join(BASE_DIR, \"val\")\n",
    "TEST_DIR   = os.path.join(BASE_DIR, \"test\")\n",
    "\n",
    "CLASSES = 2\n",
    "BATCH   = 32\n",
    "ROWS = COLS = 224\n",
    "INPUT_CH = 3\n",
    "SEED         = 42\n",
    "EPOCHS       = 15\n",
    "TEST_MAX_SAMPLES = 3000\n",
    "\n",
    "device = \"cuda\" if torch.cuda.is_available() else \"cpu\"\n",
    "print(f\"Using device: {device}\")\n",
    "torch.manual_seed(SEED)\n"
   ]
  },
  {
   "cell_type": "code",
   "execution_count": 12,
   "id": "c96d6320",
   "metadata": {},
   "outputs": [
    {
     "ename": "AssertionError",
     "evalue": "Falta 002_cancer\\train/Benign",
     "output_type": "error",
     "traceback": [
      "\u001b[31m---------------------------------------------------------------------------\u001b[39m",
      "\u001b[31mAssertionError\u001b[39m                            Traceback (most recent call last)",
      "\u001b[36mCell\u001b[39m\u001b[36m \u001b[39m\u001b[32mIn[12]\u001b[39m\u001b[32m, line 6\u001b[39m\n\u001b[32m      4\u001b[39m \u001b[38;5;66;03m# Comprobación de carpetas\u001b[39;00m\n\u001b[32m      5\u001b[39m \u001b[38;5;28;01mfor\u001b[39;00m p \u001b[38;5;129;01min\u001b[39;00m [TRAIN_DIR, TEST_DIR]:\n\u001b[32m----> \u001b[39m\u001b[32m6\u001b[39m     \u001b[38;5;28;01massert\u001b[39;00m os.path.isdir(os.path.join(p, \u001b[33m\"\u001b[39m\u001b[33mBenign\u001b[39m\u001b[33m\"\u001b[39m)),    \u001b[33mf\u001b[39m\u001b[33m\"\u001b[39m\u001b[33mFalta \u001b[39m\u001b[38;5;132;01m{\u001b[39;00mp\u001b[38;5;132;01m}\u001b[39;00m\u001b[33m/Benign\u001b[39m\u001b[33m\"\u001b[39m\n\u001b[32m      7\u001b[39m     \u001b[38;5;28;01massert\u001b[39;00m os.path.isdir(os.path.join(p, \u001b[33m\"\u001b[39m\u001b[33mMalignant\u001b[39m\u001b[33m\"\u001b[39m)), \u001b[33mf\u001b[39m\u001b[33m\"\u001b[39m\u001b[33mFalta \u001b[39m\u001b[38;5;132;01m{\u001b[39;00mp\u001b[38;5;132;01m}\u001b[39;00m\u001b[33m/Malignant\u001b[39m\u001b[33m\"\u001b[39m\n\u001b[32m      9\u001b[39m use_explicit_val = os.path.isdir(VAL_DIR) \u001b[38;5;129;01mand\u001b[39;00m \u001b[38;5;28mall\u001b[39m(\n\u001b[32m     10\u001b[39m     os.path.isdir(os.path.join(VAL_DIR, c)) \u001b[38;5;28;01mfor\u001b[39;00m c \u001b[38;5;129;01min\u001b[39;00m [\u001b[33m\"\u001b[39m\u001b[33mBenign\u001b[39m\u001b[33m\"\u001b[39m, \u001b[33m\"\u001b[39m\u001b[33mMalignant\u001b[39m\u001b[33m\"\u001b[39m]\n\u001b[32m     11\u001b[39m )\n",
      "\u001b[31mAssertionError\u001b[39m: Falta 002_cancer\\train/Benign"
     ]
    }
   ],
   "source": [
    "# ===== Datasets & Dataloaders =====\n",
    "from torch.utils.data import random_split\n",
    "\n",
    "# Comprobación de carpetas\n",
    "for p in [TRAIN_DIR, TEST_DIR]:\n",
    "    assert os.path.isdir(os.path.join(p, \"Benign\")),    f\"Falta {p}/Benign\"\n",
    "    assert os.path.isdir(os.path.join(p, \"Malignant\")), f\"Falta {p}/Malignant\"\n",
    "\n",
    "use_explicit_val = os.path.isdir(VAL_DIR) and all(\n",
    "    os.path.isdir(os.path.join(VAL_DIR, c)) for c in [\"Benign\", \"Malignant\"]\n",
    ")\n",
    "\n",
    "if use_explicit_val:\n",
    "    train_ds = datasets.ImageFolder(TRAIN_DIR, transform=train_transforms)\n",
    "    val_ds   = datasets.ImageFolder(VAL_DIR,   transform=val_test_transforms)\n",
    "else:\n",
    "    # Split desde TRAIN -> (train, val)\n",
    "    full_train = datasets.ImageFolder(TRAIN_DIR, transform=train_transforms)\n",
    "    val_ratio  = 0.2\n",
    "    n_total    = len(full_train)\n",
    "    n_val      = int(n_total * val_ratio)\n",
    "    n_train    = n_total - n_val\n",
    "    train_ds, val_ds = random_split(\n",
    "        full_train, [n_train, n_val],\n",
    "        generator=torch.Generator().manual_seed(SEED)\n",
    "    )\n",
    "\n",
    "test_ds  = datasets.ImageFolder(TEST_DIR, transform=val_test_transforms)\n",
    "\n",
    "NUM_WORKERS = 0 if os.name == \"nt\" else 4\n",
    "train_loader = DataLoader(train_ds, batch_size=BATCH, shuffle=True,\n",
    "                          num_workers=NUM_WORKERS, pin_memory=(device==\"cuda\"))\n",
    "val_loader   = DataLoader(val_ds,   batch_size=BATCH, shuffle=False,\n",
    "                          num_workers=NUM_WORKERS, pin_memory=(device==\"cuda\"))\n",
    "test_loader  = DataLoader(test_ds,  batch_size=BATCH, shuffle=False,\n",
    "                          num_workers=NUM_WORKERS, pin_memory=(device==\"cuda\"))\n",
    "\n",
    "# Mapeo de clases\n",
    "if use_explicit_val:\n",
    "    class_to_idx = datasets.ImageFolder(TRAIN_DIR).class_to_idx\n",
    "else:\n",
    "    class_to_idx = train_ds.dataset.class_to_idx if hasattr(train_ds, \"dataset\") else datasets.ImageFolder(TRAIN_DIR).class_to_idx\n",
    "idx_to_class = {v:k for k,v in class_to_idx.items()}\n",
    "print(\"Clases:\", class_to_idx)\n",
    "print(f\"Train={len(train_ds)} | Val={len(val_ds)} | Test={len(test_ds)}\")\n"
   ]
  },
  {
   "cell_type": "code",
   "execution_count": null,
   "id": "5cf11805",
   "metadata": {},
   "outputs": [
    {
     "name": "stdout",
     "output_type": "stream",
     "text": [
      "BasicCNN(\n",
      "  (features): Sequential(\n",
      "    (0): Conv2d(3, 32, kernel_size=(3, 3), stride=(1, 1), padding=(1, 1))\n",
      "    (1): BatchNorm2d(32, eps=1e-05, momentum=0.1, affine=True, track_running_stats=True)\n",
      "    (2): ReLU(inplace=True)\n",
      "    (3): MaxPool2d(kernel_size=2, stride=2, padding=0, dilation=1, ceil_mode=False)\n",
      "    (4): Conv2d(32, 64, kernel_size=(3, 3), stride=(1, 1), padding=(1, 1))\n",
      "    (5): BatchNorm2d(64, eps=1e-05, momentum=0.1, affine=True, track_running_stats=True)\n",
      "    (6): ReLU(inplace=True)\n",
      "    (7): MaxPool2d(kernel_size=2, stride=2, padding=0, dilation=1, ceil_mode=False)\n",
      "    (8): Conv2d(64, 128, kernel_size=(3, 3), stride=(1, 1), padding=(1, 1))\n",
      "    (9): BatchNorm2d(128, eps=1e-05, momentum=0.1, affine=True, track_running_stats=True)\n",
      "    (10): ReLU(inplace=True)\n",
      "    (11): MaxPool2d(kernel_size=2, stride=2, padding=0, dilation=1, ceil_mode=False)\n",
      "    (12): Conv2d(128, 256, kernel_size=(3, 3), stride=(1, 1), padding=(1, 1))\n",
      "    (13): BatchNorm2d(256, eps=1e-05, momentum=0.1, affine=True, track_running_stats=True)\n",
      "    (14): ReLU(inplace=True)\n",
      "    (15): MaxPool2d(kernel_size=2, stride=2, padding=0, dilation=1, ceil_mode=False)\n",
      "  )\n",
      "  (pool): AdaptiveAvgPool2d(output_size=(1, 1))\n",
      "  (classifier): Sequential(\n",
      "    (0): Flatten(start_dim=1, end_dim=-1)\n",
      "    (1): Dropout(p=0.3, inplace=False)\n",
      "    (2): Linear(in_features=256, out_features=128, bias=True)\n",
      "    (3): ReLU(inplace=True)\n",
      "    (4): Dropout(p=0.3, inplace=False)\n",
      "    (5): Linear(in_features=128, out_features=2, bias=True)\n",
      "  )\n",
      ")\n"
     ]
    }
   ],
   "source": [
    "# ===== Modelo básico (CNN pequeña) =====\n",
    "import torch.nn as nn\n",
    "import torch.nn.functional as F\n",
    "\n",
    "class BasicCNN(nn.Module):\n",
    "    def __init__(self, in_ch=3, num_classes=2):\n",
    "        super().__init__()\n",
    "        self.features = nn.Sequential(\n",
    "            nn.Conv2d(in_ch, 32, kernel_size=3, padding=1),  # [B,32,224,224]\n",
    "            nn.BatchNorm2d(32),\n",
    "            nn.ReLU(inplace=True),\n",
    "            nn.MaxPool2d(2),                                  # [B,32,112,112]\n",
    "\n",
    "            nn.Conv2d(32, 64, kernel_size=3, padding=1),      # [B,64,112,112]\n",
    "            nn.BatchNorm2d(64),\n",
    "            nn.ReLU(inplace=True),\n",
    "            nn.MaxPool2d(2),                                  # [B,64,56,56]\n",
    "\n",
    "            nn.Conv2d(64, 128, kernel_size=3, padding=1),     # [B,128,56,56]\n",
    "            nn.BatchNorm2d(128),\n",
    "            nn.ReLU(inplace=True),\n",
    "            nn.MaxPool2d(2),                                  # [B,128,28,28]\n",
    "\n",
    "            nn.Conv2d(128, 256, kernel_size=3, padding=1),    # [B,256,28,28]\n",
    "            nn.BatchNorm2d(256),\n",
    "            nn.ReLU(inplace=True),\n",
    "            nn.MaxPool2d(2),                                  # [B,256,14,14]\n",
    "        )\n",
    "        self.pool = nn.AdaptiveAvgPool2d((1,1))               # [B,256,1,1]\n",
    "        self.classifier = nn.Sequential(\n",
    "            nn.Flatten(),\n",
    "            nn.Dropout(0.3),\n",
    "            nn.Linear(256, 128),\n",
    "            nn.ReLU(inplace=True),\n",
    "            nn.Dropout(0.3),\n",
    "            nn.Linear(128, num_classes)\n",
    "        )\n",
    "    def forward(self, x):\n",
    "        x = self.features(x)\n",
    "        x = self.pool(x)\n",
    "        x = self.classifier(x)\n",
    "        return x\n",
    "\n",
    "model = BasicCNN(in_ch=INPUT_CH, num_classes=CLASSES).to(device)\n",
    "print(model)\n"
   ]
  },
  {
   "cell_type": "code",
   "execution_count": null,
   "id": "ce66f4b2",
   "metadata": {},
   "outputs": [
    {
     "name": "stderr",
     "output_type": "stream",
     "text": [
      "C:\\Users\\Usuario\\AppData\\Local\\Temp\\ipykernel_16308\\772398189.py:8: FutureWarning: `torch.cuda.amp.GradScaler(args...)` is deprecated. Please use `torch.amp.GradScaler('cuda', args...)` instead.\n",
      "  scaler = torch.cuda.amp.GradScaler(enabled=USE_AMP)\n"
     ]
    }
   ],
   "source": [
    "# ===== Entrenamiento =====\n",
    "criterion = nn.CrossEntropyLoss()\n",
    "optimizer = torch.optim.AdamW(model.parameters(), lr=1e-3, weight_decay=1e-4)\n",
    "scheduler = torch.optim.lr_scheduler.ReduceLROnPlateau(optimizer, factor=0.5, patience=2)\n",
    "\n",
    "# Bandera para AMP: True solo si hay GPU\n",
    "USE_AMP = (device == \"cuda\")\n",
    "scaler = torch.cuda.amp.GradScaler(enabled=USE_AMP)\n",
    "\n",
    "best_val_loss = float(\"inf\")\n",
    "best_path = \"basic_cnn_best.pt\"\n",
    "patience = 5\n",
    "epochs_no_improve = 0\n",
    "\n",
    "def run_epoch(loader, train_mode=True):\n",
    "    if train_mode:\n",
    "        model.train()\n",
    "    else:\n",
    "        model.eval()\n",
    "    total, correct, running = 0, 0, 0.0\n",
    "\n",
    "    for xb, yb in loader:\n",
    "        xb, yb = xb.to(device), yb.to(device)\n",
    "\n",
    "        if train_mode:\n",
    "            optimizer.zero_grad(set_to_none=True)\n",
    "\n",
    "        if USE_AMP:\n",
    "            with torch.cuda.amp.autocast():\n",
    "                logits = model(xb)\n",
    "                loss   = criterion(logits, yb)\n",
    "        else:\n",
    "            logits = model(xb)\n",
    "            loss   = criterion(logits, yb)\n",
    "\n",
    "        if train_mode:\n",
    "            if USE_AMP:\n",
    "                scaler.scale(loss).backward()\n",
    "                scaler.step(optimizer)\n",
    "                scaler.update()\n",
    "            else:\n",
    "                loss.backward()\n",
    "                optimizer.step()\n",
    "\n",
    "        running += loss.item() * xb.size(0)\n",
    "        pred = logits.argmax(1)\n",
    "        total += yb.size(0)\n",
    "        correct += (pred == yb).sum().item()\n",
    "\n",
    "    return running/total, correct/total\n"
   ]
  },
  {
   "cell_type": "code",
   "execution_count": null,
   "id": "ab1949c3",
   "metadata": {},
   "outputs": [],
   "source": [
    "# Historial para gráficas\n",
    "hist = {\n",
    "    \"epoch\": [],\n",
    "    \"train_loss\": [],\n",
    "    \"train_acc\": [],\n",
    "    \"val_loss\":   [],\n",
    "    \"val_acc\":    []\n",
    "}"
   ]
  },
  {
   "cell_type": "code",
   "execution_count": null,
   "id": "77f0a294",
   "metadata": {},
   "outputs": [
    {
     "name": "stdout",
     "output_type": "stream",
     "text": [
      "class_to_idx: {'Benign': 0, 'Malignant': 1} | malignant_index: 1\n"
     ]
    }
   ],
   "source": [
    "# Si ya tienes class_to_idx, omite esto.\n",
    "try:\n",
    "    class_to_idx\n",
    "except NameError:\n",
    "    from torchvision import datasets\n",
    "    class_to_idx = datasets.ImageFolder(TRAIN_DIR).class_to_idx\n",
    "\n",
    "idx_to_class = {v:k for k,v in class_to_idx.items()}\n",
    "malignant_index = class_to_idx.get(\"Malignant\", 1)  # por si la carpeta se llama distinto, ajusta aquí\n",
    "print(\"class_to_idx:\", class_to_idx, \"| malignant_index:\", malignant_index)"
   ]
  },
  {
   "cell_type": "code",
   "execution_count": null,
   "id": "cd9af2e8",
   "metadata": {},
   "outputs": [],
   "source": [
    "@torch.no_grad()\n",
    "def evaluate_with_fn(loader):\n",
    "    model.eval()\n",
    "    total, correct, running = 0, 0, 0.0\n",
    "    fn_total = 0\n",
    "    for xb, yb in loader:\n",
    "        xb, yb = xb.to(device), yb.to(device)\n",
    "\n",
    "        if USE_AMP:\n",
    "            with torch.cuda.amp.autocast():\n",
    "                logits = model(xb)\n",
    "                loss   = criterion(logits, yb)\n",
    "        else:\n",
    "            logits = model(xb)\n",
    "            loss   = criterion(logits, yb)\n",
    "\n",
    "        running += loss.item() * xb.size(0)\n",
    "        preds = logits.argmax(1)\n",
    "\n",
    "        total += yb.size(0)\n",
    "        correct += (preds == yb).sum().item()\n",
    "\n",
    "        # FN = verdaderos Malignant predichos como NO-Malignant\n",
    "        fn_total += ((preds != malignant_index) & (yb == malignant_index)).sum().item()\n",
    "\n",
    "    return running/total, correct/total, fn_total"
   ]
  },
  {
   "cell_type": "code",
   "execution_count": null,
   "id": "36ec3b22",
   "metadata": {},
   "outputs": [
    {
     "name": "stderr",
     "output_type": "stream",
     "text": [
      "C:\\Users\\Usuario\\AppData\\Local\\Temp\\ipykernel_16308\\772398189.py:29: FutureWarning: `torch.cuda.amp.autocast(args...)` is deprecated. Please use `torch.amp.autocast('cuda', args...)` instead.\n",
      "  with torch.cuda.amp.autocast():\n",
      "C:\\Users\\Usuario\\AppData\\Local\\Temp\\ipykernel_16308\\2561163597.py:10: FutureWarning: `torch.cuda.amp.autocast(args...)` is deprecated. Please use `torch.amp.autocast('cuda', args...)` instead.\n",
      "  with torch.cuda.amp.autocast():\n"
     ]
    },
    {
     "name": "stdout",
     "output_type": "stream",
     "text": [
      "[01/15] train_loss=0.4479 acc=0.785 | val_loss=0.3795 acc=0.822 | val_FN=185 | LR=0.001000\n",
      "✔️ Guardado mejor modelo (min FN): FN=185, loss=0.3795 -> basic_cnn_minFN.pt\n",
      "[02/15] train_loss=0.4004 acc=0.814 | val_loss=0.3514 acc=0.829 | val_FN=147 | LR=0.001000\n",
      "✔️ Guardado mejor modelo (min FN): FN=147, loss=0.3514 -> basic_cnn_minFN.pt\n",
      "[03/15] train_loss=0.3704 acc=0.829 | val_loss=0.3438 acc=0.851 | val_FN=191 | LR=0.001000\n",
      "[04/15] train_loss=0.3493 acc=0.842 | val_loss=0.3302 acc=0.855 | val_FN=139 | LR=0.001000\n",
      "✔️ Guardado mejor modelo (min FN): FN=139, loss=0.3302 -> basic_cnn_minFN.pt\n",
      "[05/15] train_loss=0.3430 acc=0.848 | val_loss=0.3301 acc=0.868 | val_FN=204 | LR=0.001000\n",
      "[06/15] train_loss=0.3227 acc=0.858 | val_loss=0.3180 acc=0.869 | val_FN=136 | LR=0.001000\n",
      "✔️ Guardado mejor modelo (min FN): FN=136, loss=0.3180 -> basic_cnn_minFN.pt\n",
      "[07/15] train_loss=0.3237 acc=0.859 | val_loss=0.3075 acc=0.873 | val_FN=137 | LR=0.001000\n",
      "[08/15] train_loss=0.3173 acc=0.862 | val_loss=0.3223 acc=0.865 | val_FN=172 | LR=0.001000\n",
      "[09/15] train_loss=0.3116 acc=0.864 | val_loss=0.3116 acc=0.865 | val_FN=110 | LR=0.001000\n",
      "✔️ Guardado mejor modelo (min FN): FN=110, loss=0.3116 -> basic_cnn_minFN.pt\n",
      "[10/15] train_loss=0.3131 acc=0.862 | val_loss=0.2946 acc=0.879 | val_FN=186 | LR=0.001000\n",
      "[11/15] train_loss=0.3091 acc=0.867 | val_loss=0.3076 acc=0.867 | val_FN=149 | LR=0.001000\n",
      "[12/15] train_loss=0.3023 acc=0.869 | val_loss=0.3123 acc=0.872 | val_FN=165 | LR=0.001000\n",
      "[13/15] train_loss=0.2993 acc=0.869 | val_loss=0.2920 acc=0.875 | val_FN=101 | LR=0.001000\n",
      "✔️ Guardado mejor modelo (min FN): FN=101, loss=0.2920 -> basic_cnn_minFN.pt\n",
      "[14/15] train_loss=0.2939 acc=0.874 | val_loss=0.2831 acc=0.880 | val_FN=141 | LR=0.001000\n",
      "[15/15] train_loss=0.2909 acc=0.874 | val_loss=0.2872 acc=0.884 | val_FN=160 | LR=0.001000\n"
     ]
    }
   ],
   "source": [
    "best_val_loss = float(\"inf\")\n",
    "best_val_fn   = float(\"inf\")     # criterio principal\n",
    "best_path     = \"basic_cnn_minFN.pt\"\n",
    "patience      = 5\n",
    "epochs_no_improve = 0\n",
    "\n",
    "for epoch in range(1, EPOCHS+1):\n",
    "    # ---- TRAIN ----\n",
    "    tr_loss, tr_acc = run_epoch(train_loader, train_mode=True)\n",
    "\n",
    "    # ---- VAL (cada época; al optimizar FN conviene validar siempre) ----\n",
    "    va_loss, va_acc, va_fn = evaluate_with_fn(val_loader)\n",
    "    scheduler.step(va_loss)\n",
    "\n",
    "    # --- guardar historial ---\n",
    "    hist[\"epoch\"].append(epoch)\n",
    "    hist[\"train_loss\"].append(tr_loss)\n",
    "    hist[\"train_acc\"].append(tr_acc)\n",
    "    hist[\"val_loss\"].append(va_loss)\n",
    "    hist[\"val_acc\"].append(va_acc)\n",
    "\n",
    "    print(f\"[{epoch:02d}/{EPOCHS}] \"\n",
    "          f\"train_loss={tr_loss:.4f} acc={tr_acc:.3f} | \"\n",
    "          f\"val_loss={va_loss:.4f} acc={va_acc:.3f} | \"\n",
    "          f\"val_FN={va_fn} | \"\n",
    "          f\"LR={optimizer.param_groups[0]['lr']:.6f}\",\n",
    "          flush=True)\n",
    "\n",
    "    # ---- guardar mejor por FN; desempate por menor val_loss ----\n",
    "    improved = (va_fn < best_val_fn) or ((va_fn == best_val_fn) and (va_loss < best_val_loss - 1e-4))\n",
    "    if improved:\n",
    "        best_val_fn = va_fn\n",
    "        best_val_loss = va_loss\n",
    "        epochs_no_improve = 0\n",
    "        torch.save({\n",
    "            \"model_state\": model.state_dict(),\n",
    "            \"class_to_idx\": class_to_idx,\n",
    "            \"malignant_index\": malignant_index,\n",
    "            \"best_val_fn\": best_val_fn,\n",
    "            \"best_val_loss\": best_val_loss,\n",
    "            \"epoch\": epoch\n",
    "        }, best_path)\n",
    "        print(f\"✔️ Guardado mejor modelo (min FN): FN={best_val_fn}, loss={best_val_loss:.4f} -> {best_path}\", flush=True)\n",
    "    else:\n",
    "        epochs_no_improve += 1\n",
    "        if epochs_no_improve >= patience:\n",
    "            print(\"Early stopping (sin mejora en FN).\", flush=True)\n",
    "            break"
   ]
  },
  {
   "cell_type": "code",
   "execution_count": null,
   "id": "352dd6e5",
   "metadata": {},
   "outputs": [
    {
     "name": "stdout",
     "output_type": "stream",
     "text": [
      "Mejor modelo cargado desde basic_cnn_minFN.pt | FN=101 loss=0.29195648604945135\n"
     ]
    },
    {
     "name": "stderr",
     "output_type": "stream",
     "text": [
      "C:\\Users\\Usuario\\AppData\\Local\\Temp\\ipykernel_16308\\1308712078.py:2: FutureWarning: You are using `torch.load` with `weights_only=False` (the current default value), which uses the default pickle module implicitly. It is possible to construct malicious pickle data which will execute arbitrary code during unpickling (See https://github.com/pytorch/pytorch/blob/main/SECURITY.md#untrusted-models for more details). In a future release, the default value for `weights_only` will be flipped to `True`. This limits the functions that could be executed during unpickling. Arbitrary objects will no longer be allowed to be loaded via this mode unless they are explicitly allowlisted by the user via `torch.serialization.add_safe_globals`. We recommend you start setting `weights_only=True` for any use case where you don't have full control of the loaded file. Please open an issue on GitHub for any issues related to this experimental feature.\n",
      "  ckpt = torch.load(best_path, map_location=device)\n"
     ]
    }
   ],
   "source": [
    "# ===== Recargar mejor modelo =====\n",
    "ckpt = torch.load(best_path, map_location=device)\n",
    "model.load_state_dict(ckpt[\"model_state\"])\n",
    "class_to_idx = ckpt[\"class_to_idx\"]\n",
    "malignant_index = ckpt.get(\"malignant_index\", class_to_idx.get(\"Malignant\", 1))\n",
    "idx_to_class = {v:k for k,v in class_to_idx.items()}\n",
    "print(f\"Mejor modelo cargado desde {best_path} | \"\n",
    "      f\"FN={ckpt.get('best_val_fn')} loss={ckpt.get('best_val_loss')}\", flush=True)"
   ]
  },
  {
   "cell_type": "code",
   "execution_count": null,
   "id": "ddea0d08",
   "metadata": {},
   "outputs": [
    {
     "data": {
      "image/png": "[encoded data removed]",
      "text/plain": [
       "<Figure size 600x400 with 1 Axes>"
      ]
     },
     "metadata": {},
     "output_type": "display_data"
    },
    {
     "data": {
      "image/png": "[encoded data removed]",
      "text/plain": [
       "<Figure size 600x400 with 1 Axes>"
      ]
     },
     "metadata": {},
     "output_type": "display_data"
    }
   ],
   "source": [
    "import matplotlib.pyplot as plt\n",
    "import numpy as np\n",
    "\n",
    "epochs = np.array(hist[\"epoch\"])\n",
    "tr_loss = np.array(hist[\"train_loss\"], dtype=float)\n",
    "tr_acc  = np.array(hist[\"train_acc\"], dtype=float)\n",
    "val_loss = np.array(hist[\"val_loss\"], dtype=float)\n",
    "val_acc  = np.array(hist[\"val_acc\"], dtype=float)\n",
    "\n",
    "plt.figure(figsize=(6,4))\n",
    "plt.plot(epochs, tr_loss, label=\"Train loss\")\n",
    "plt.plot(epochs, val_loss, label=\"Val loss\")\n",
    "plt.xlabel(\"Época\"); plt.ylabel(\"Pérdida\"); plt.title(\"Curva de pérdida\")\n",
    "plt.legend(); plt.grid(True); plt.show()\n",
    "\n",
    "plt.figure(figsize=(6,4))\n",
    "plt.plot(epochs, tr_acc, label=\"Train acc\")\n",
    "plt.plot(epochs, val_acc, label=\"Val acc\")\n",
    "plt.xlabel(\"Época\"); plt.ylabel(\"Exactitud\"); plt.title(\"Curva de exactitud\")\n",
    "plt.legend(); plt.grid(True); plt.show()\n"
   ]
  },
  {
   "cell_type": "code",
   "execution_count": null,
   "id": "d22c2bd1",
   "metadata": {},
   "outputs": [
    {
     "name": "stderr",
     "output_type": "stream",
     "text": [
      "C:\\Users\\Usuario\\AppData\\Local\\Temp\\ipykernel_16308\\3271945181.py:10: FutureWarning: `torch.cuda.amp.autocast(args...)` is deprecated. Please use `torch.amp.autocast('cuda', args...)` instead.\n",
      "  with torch.cuda.amp.autocast():\n"
     ]
    },
    {
     "name": "stdout",
     "output_type": "stream",
     "text": [
      "Test accuracy: 0.8825\n",
      "              precision    recall  f1-score   support\n",
      "\n",
      "      Benign       0.91      0.85      0.88      1000\n",
      "   Malignant       0.86      0.92      0.89      1000\n",
      "\n",
      "    accuracy                           0.88      2000\n",
      "   macro avg       0.88      0.88      0.88      2000\n",
      "weighted avg       0.88      0.88      0.88      2000\n",
      "\n"
     ]
    },
    {
     "data": {
      "image/png": "[encoded data removed]",
      "text/plain": [
       "<Figure size 480x480 with 2 Axes>"
      ]
     },
     "metadata": {},
     "output_type": "display_data"
    }
   ],
   "source": [
    "# pip install scikit-learn\n",
    "from sklearn.metrics import confusion_matrix, classification_report\n",
    "\n",
    "model.eval()\n",
    "all_preds, all_labels = [], []\n",
    "with torch.no_grad():\n",
    "    for xb, yb in test_loader:\n",
    "        xb = xb.to(device)\n",
    "        if USE_AMP:\n",
    "            with torch.cuda.amp.autocast():\n",
    "                logits = model(xb)\n",
    "        else:\n",
    "            logits = model(xb)\n",
    "        pred = logits.argmax(1).cpu()\n",
    "        all_preds.append(pred)\n",
    "        all_labels.append(yb)\n",
    "\n",
    "all_preds  = torch.cat(all_preds).numpy()\n",
    "all_labels = torch.cat(all_labels).numpy()\n",
    "\n",
    "test_acc = (all_preds == all_labels).mean()\n",
    "print(f\"Test accuracy: {test_acc:.4f}\")\n",
    "print(classification_report(all_labels, all_preds,\n",
    "                            target_names=[idx_to_class[0], idx_to_class[1]]))\n",
    "\n",
    "cm = confusion_matrix(all_labels, all_preds, labels=[0,1])\n",
    "\n",
    "plt.figure(figsize=(4.8,4.8))\n",
    "im = plt.imshow(cm, interpolation=\"nearest\")\n",
    "plt.title(\"Matriz de confusión\"); plt.colorbar(im, fraction=0.046, pad=0.04)\n",
    "tick_marks = np.arange(2)\n",
    "plt.xticks(tick_marks, [idx_to_class[0], idx_to_class[1]], rotation=45, ha=\"right\")\n",
    "plt.yticks(tick_marks, [idx_to_class[0], idx_to_class[1]])\n",
    "plt.xlabel(\"Predicción\"); plt.ylabel(\"Real\")\n",
    "\n",
    "th = cm.max()/2.0 if cm.size > 0 else 0.0\n",
    "for i in range(cm.shape[0]):\n",
    "    for j in range(cm.shape[1]):\n",
    "        plt.text(j, i, format(cm[i, j], \"d\"),\n",
    "                 ha=\"center\", va=\"center\",\n",
    "                 color=\"white\" if cm[i, j] > th else \"black\")\n",
    "\n",
    "plt.tight_layout(); plt.show()"
   ]
  },
  {
   "cell_type": "code",
   "execution_count": null,
   "id": "c6508cbb",
   "metadata": {},
   "outputs": [],
   "source": []
  }
 ],
 "metadata": {
  "kernelspec": {
   "display_name": "env11 (3.11.9)",
   "language": "python",
   "name": "python3"
  },
  "language_info": {
   "codemirror_mode": {
    "name": "ipython",
    "version": 3
   },
   "file_extension": ".py",
   "mimetype": "text/x-python",
   "name": "python",
   "nbconvert_exporter": "python",
   "pygments_lexer": "ipython3",
   "version": "3.11.9"
  }
 },
 "nbformat": 4,
 "nbformat_minor": 5
}
