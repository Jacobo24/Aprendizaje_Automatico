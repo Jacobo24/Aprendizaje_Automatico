{
 "cells": [
  {
   "cell_type": "markdown",
   "id": "e16b647e",
   "metadata": {},
   "source": [
    "# Carga de CSV"
   ]
  },
  {
   "cell_type": "markdown",
   "id": "19a8cb7e",
   "metadata": {},
   "source": [
    "## Importar Librerías"
   ]
  },
  {
   "cell_type": "code",
   "execution_count": 3,
   "id": "9a314beb",
   "metadata": {},
   "outputs": [],
   "source": [
    "import yfinance as yf\n",
    "import pandas as pd\n",
    "import numpy as np\n",
    "import math\n",
    "from sklearn.preprocessing import MinMaxScaler\n",
    "from sklearn.metrics import mean_absolute_error, mean_squared_error\n",
    "import matplotlib.pyplot as plt\n",
    "import tensorflow as tf\n",
    "from tensorflow.keras.models import Sequential\n",
    "from tensorflow.keras.layers import Dense, SimpleRNN, LSTM, GRU, Dropout\n",
    "from tensorflow.keras.callbacks import EarlyStopping, ModelCheckpoint"
   ]
  },
  {
   "cell_type": "markdown",
   "id": "3ac3c7d1",
   "metadata": {},
   "source": [
    "## Descarga de Datos"
   ]
  },
  {
   "cell_type": "code",
   "execution_count": 4,
   "id": "7c151b7f",
   "metadata": {},
   "outputs": [
    {
     "name": "stderr",
     "output_type": "stream",
     "text": [
      "C:\\Users\\Usuario\\AppData\\Local\\Temp\\ipykernel_19552\\3604725456.py:10: FutureWarning: YF.download() has changed argument auto_adjust default to True\n",
      "  bbva_data = yf.download(bbva_ticker, start=start_date, end=end_date)\n",
      "[*********************100%***********************]  1 of 1 completed\n",
      "C:\\Users\\Usuario\\AppData\\Local\\Temp\\ipykernel_19552\\3604725456.py:11: FutureWarning: YF.download() has changed argument auto_adjust default to True\n",
      "  santander_data = yf.download(santander_ticker, start=start_date, end=end_date)\n",
      "[*********************100%***********************]  1 of 1 completed"
     ]
    },
    {
     "name": "stdout",
     "output_type": "stream",
     "text": [
      "BBVA data:\n",
      "Price          Close      High       Low      Open    Volume\n",
      "Ticker       BBVA.MC   BBVA.MC   BBVA.MC   BBVA.MC   BBVA.MC\n",
      "Date                                                        \n",
      "2000-01-03  4.115110  4.155739  4.106404  4.135425   8244257\n",
      "2000-01-04  4.007736  4.088994  3.993226  4.062875   8522096\n",
      "2000-01-05  3.917770  3.990321  3.900358  3.970006  12159826\n",
      "2000-01-06  3.917770  3.917770  3.917770  3.917770         0\n",
      "2000-01-07  3.967106  4.001931  3.926478  4.001931  62261944\n",
      "\n",
      "Santander data:\n",
      "Price          Close      High       Low      Open   Volume\n",
      "Ticker        SAN.MC    SAN.MC    SAN.MC    SAN.MC   SAN.MC\n",
      "Date                                                       \n",
      "2000-01-03  2.625067  2.661975  2.595079  2.652748  8797337\n",
      "2000-01-04  2.562785  2.606613  2.539718  2.592773  8811013\n",
      "2000-01-05  2.500502  2.546637  2.479742  2.514343  9333517\n",
      "2000-01-06  2.500502  2.500502  2.500502  2.500502        0\n",
      "2000-01-07  2.611227  2.618147  2.516651  2.518958  9603132\n"
     ]
    },
    {
     "name": "stderr",
     "output_type": "stream",
     "text": [
      "\n"
     ]
    }
   ],
   "source": [
    "# Definir los símbolos de las acciones\n",
    "bbva_ticker = \"BBVA.MC\"   # BBVA (Bolsa de Madrid)\n",
    "santander_ticker = \"SAN.MC\"  # Banco Santander (Bolsa de Madrid)\n",
    "\n",
    "# Definir el rango de fechas\n",
    "start_date = \"2000-01-01\"\n",
    "end_date   = \"2025-11-01\"\n",
    "\n",
    "# Descargar los datos históricos desde Yahoo Finance\n",
    "bbva_data = yf.download(bbva_ticker, start=start_date, end=end_date)\n",
    "santander_data = yf.download(santander_ticker, start=start_date, end=end_date)\n",
    "\n",
    "# Mostrar resumen por consola\n",
    "print(\"BBVA data:\")\n",
    "print(bbva_data.head())\n",
    "print(\"\\nSantander data:\")\n",
    "print(santander_data.head())\n",
    "\n",
    "# Guardar los datos en CSV\n",
    "bbva_data.to_csv(\"../csv/bbva_data.csv\")\n",
    "santander_data.to_csv(\"../csv/santander_data.csv\")"
   ]
  }
 ],
 "metadata": {
  "kernelspec": {
   "display_name": "env11 (3.11.9)",
   "language": "python",
   "name": "python3"
  },
  "language_info": {
   "codemirror_mode": {
    "name": "ipython",
    "version": 3
   },
   "file_extension": ".py",
   "mimetype": "text/x-python",
   "name": "python",
   "nbconvert_exporter": "python",
   "pygments_lexer": "ipython3",
   "version": "3.11.9"
  }
 },
 "nbformat": 4,
 "nbformat_minor": 5
}
