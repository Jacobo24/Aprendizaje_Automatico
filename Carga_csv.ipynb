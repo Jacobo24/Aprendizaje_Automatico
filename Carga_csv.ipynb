{
 "cells": [
  {
   "cell_type": "markdown",
   "id": "7f64a029",
   "metadata": {},
   "source": []
  },
  {
   "cell_type": "code",
   "execution_count": 1,
   "id": "4fe9bafd",
   "metadata": {},
   "outputs": [
    {
     "name": "stderr",
     "output_type": "stream",
     "text": [
      "C:\\Users\\Usuario\\AppData\\Local\\Temp\\ipykernel_8524\\3443452922.py:10: FutureWarning: YF.download() has changed argument auto_adjust default to True\n",
      "  sp500_data = yf.download(sp500_ticker, start=start_date, end=end_date)\n",
      "[*********************100%***********************]  1 of 1 completed\n",
      "C:\\Users\\Usuario\\AppData\\Local\\Temp\\ipykernel_8524\\3443452922.py:11: FutureWarning: YF.download() has changed argument auto_adjust default to True\n",
      "  ibex35_data = yf.download(ibex35_ticker, start=start_date, end=end_date)\n",
      "[*********************100%***********************]  1 of 1 completed\n"
     ]
    }
   ],
   "source": [
    "import yfinance as yf\n",
    "import pandas as pd\n",
    "# Definir los símbolos de los índices\n",
    "sp500_ticker = \"^GSPC\" # S&P 500\n",
    "ibex35_ticker = \"^IBEX\" # IBEX 35\n",
    "# Definir el rango de fechas\n",
    "start_date = \"2000-01-01\"\n",
    "end_date = \"2024-01-01\"\n",
    "# Descargar los datos históricos desde Yahoo Finance\n",
    "sp500_data = yf.download(sp500_ticker, start=start_date, end=end_date)\n",
    "ibex35_data = yf.download(ibex35_ticker, start=start_date, end=end_date)"
   ]
  },
  {
   "cell_type": "code",
   "execution_count": 2,
   "id": "1f0f25ba",
   "metadata": {},
   "outputs": [
    {
     "name": "stdout",
     "output_type": "stream",
     "text": [
      "S&P 500 Data:\n",
      "Price             Close         High          Low         Open      Volume\n",
      "Ticker            ^GSPC        ^GSPC        ^GSPC        ^GSPC       ^GSPC\n",
      "Date                                                                      \n",
      "2000-01-03  1455.219971  1478.000000  1438.359985  1469.250000   931800000\n",
      "2000-01-04  1399.420044  1455.219971  1397.430054  1455.219971  1009000000\n",
      "2000-01-05  1402.109985  1413.270020  1377.680054  1399.420044  1085500000\n",
      "2000-01-06  1403.449951  1411.900024  1392.099976  1402.109985  1092300000\n",
      "2000-01-07  1441.469971  1441.469971  1400.729980  1403.449951  1225200000\n",
      "\n",
      "IBEX 35 Data:\n",
      "Price              Close          High           Low          Open Volume\n",
      "Ticker             ^IBEX         ^IBEX         ^IBEX         ^IBEX  ^IBEX\n",
      "Date                                                                     \n",
      "2000-01-03  11609.988281  11881.787812  11574.388708  11641.388640      0\n",
      "2000-01-04  11206.587891  11529.987943  11159.788135  11529.987943      0\n",
      "2000-01-05  10863.088867  11068.088664  10824.889686  11068.088664      0\n",
      "2000-01-07  11102.388672  11137.888634  10882.688708  10882.688708      0\n",
      "2000-01-10  11173.288086  11364.287886  11120.587946  11120.587946      0\n"
     ]
    }
   ],
   "source": [
    "# Mostrar las primeras filas de cada dataset\n",
    "print(\"S&P 500 Data:\")\n",
    "print(sp500_data.head())\n",
    "print(\"\\nIBEX 35 Data:\")\n",
    "print(ibex35_data.head())\n",
    "# Guardar los datos en CSV (opcional)\n",
    "sp500_data.to_csv(\"sp500_data.csv\")\n",
    "ibex35_data.to_csv(\"ibex35_data.csv\")"
   ]
  }
 ],
 "metadata": {
  "kernelspec": {
   "display_name": "env11 (3.11.9)",
   "language": "python",
   "name": "python3"
  },
  "language_info": {
   "codemirror_mode": {
    "name": "ipython",
    "version": 3
   },
   "file_extension": ".py",
   "mimetype": "text/x-python",
   "name": "python",
   "nbconvert_exporter": "python",
   "pygments_lexer": "ipython3",
   "version": "3.11.9"
  }
 },
 "nbformat": 4,
 "nbformat_minor": 5
}
